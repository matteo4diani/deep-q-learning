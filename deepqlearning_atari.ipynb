{
  "nbformat": 4,
  "nbformat_minor": 0,
  "metadata": {
    "colab": {
      "provenance": [],
      "collapsed_sections": [],
      "machine_shape": "hm",
      "toc_visible": true,
      "mount_file_id": "1LmIgiaTlfQ7eRmbBIg2YjU5XYm7pRlJq",
      "authorship_tag": "ABX9TyO53RY/zCnlZLdNI1mBJ/kF",
      "include_colab_link": true
    },
    "kernelspec": {
      "name": "python3",
      "display_name": "Python 3"
    },
    "language_info": {
      "name": "python"
    },
    "accelerator": "GPU",
    "gpuClass": "standard"
  },
  "cells": [
    {
      "cell_type": "markdown",
      "metadata": {
        "id": "view-in-github",
        "colab_type": "text"
      },
      "source": [
        "<a href=\"https://colab.research.google.com/github/matteo4diani/deep-q-learning/blob/main/deepqlearning_atari.ipynb\" target=\"_parent\"><img src=\"https://colab.research.google.com/assets/colab-badge.svg\" alt=\"Open In Colab\"/></a>"
      ]
    },
    {
      "cell_type": "markdown",
      "source": [
        "# Introduction\n",
        "\n",
        "## Deep Q-Learning\n",
        "\n",
        "This notebook contains a replication of results in [\"Human-level control through deep reinforcement learning\"](https://doi.org/10.1038/nature14236), [\"Playing Atari with deep reinforcement learning\"](https://www.deepmind.com/publications/playing-atari-with-deep-reinforcement-learning), and [\"Deep reinforcement learning with Double Q-Learning\"](\n",
        "https://doi.org/10.48550/arXiv.1509.06461) by Google DeepMind members and collaborators.\n",
        "\n",
        "The critical innovation in these papers is predicting the Q-Values for the game at hand (needed for the loss calculations of the player agent network) with a neural network (called _target network_, hence the name _Deep_ Q-Learning) that copies its weights (with a set periodicity represented by the __TARGET_UPDATE_FREQ__ constant) from the _online network_ that plays the game by choosing actions at each time-step.\n",
        "\n",
        "The _online_ and _target_ networks share the same architecture and differ only in their weights (_target_ lags behind _online_ until updated every __TARGET_UPDATE_FREQ__ steps).\n",
        "\n",
        "## Double Q-Learning\n",
        "\n",
        "A _Double Q-Network_ uses the player agent (online) network to compute its own loss function: best Q-Values indices are drawn from the online network (as indices in the Q-Values tensor correspond to actions, this phase can be seen as action selection) but the actual Q-Values for the actions are predicted using the _target network_, as previously defined.\n",
        "\n",
        "## Implementation details\n",
        "\n",
        "The preprocessing steps detailed in the papers (convert to gray-scale, frame-stacking, etc.) are implemented in the ___deep-q-learning-utils___ repository: a collection of PyTorch and OpenAI Baselines wrappers by GitHub user __@brtorch__.  \n",
        "\n",
        "Deep Q Learning on Atari games produce memory-heavy models, thus we serialize weights to disks so we can resume training after OOM events (set __RELOAD_PARAMS__ constant to __True__).\n",
        "\n",
        "This implementation uses a GPU with CUDA if available.\n",
        "\n"
      ],
      "metadata": {
        "id": "I5dGzioX9rqR"
      }
    },
    {
      "cell_type": "markdown",
      "source": [
        "# Usage\n",
        "\n",
        "1. Run all the cells under `Environment Setup` \n",
        "2. Run all the cells in `Project Imports`\n",
        "3. Configure model training, checkpoints and logs in the `Constants` cell\n",
        "4. Ignore cells in `Persistence Clean-up`. If you need to clean up logs and serialized network parameters, replace the paths in the cell with the paths to your logs\n",
        "5. If you want to use Google Drive, set `USE_DRIVE` to `True` and run the `Mount Google Drive` cell\n",
        "6. Run `Network Definition` cell\n",
        "7. To train the model, run the `Model Training` cell.\n",
        "8. Training generates logs that are graphed automatically by TensorBoard: run the `Graphs with TensorBoard` cell to generate graphs.\n",
        "9. While the model is training (if `SAVE_PARAMS` is `True`) it saves its parameters to `SAVE_PATH`. If you want to observe the trained model play you can use the `observe.py` script on your local machine (download the `atari_model.pack` file and place it in the same folder as `deep-q-learning-utils`). Google Colab does not support `env.render()` so this must be done on local."
      ],
      "metadata": {
        "id": "nxoWXSq1gl_1"
      }
    },
    {
      "cell_type": "markdown",
      "source": [
        "# Environment Setup\n",
        "\n"
      ],
      "metadata": {
        "id": "Rvnw0S_yNDGY"
      }
    },
    {
      "cell_type": "code",
      "source": [
        "# Installs for:\n",
        "# ML framework (pytorch)\n",
        "# Serialization (msgpack)\n",
        "# Atari env (gym)\n",
        "# Tensorflow introspection and visualization (tensorboard)\n",
        "!pip install memory_profiler\n",
        "!pip install torch gym\n",
        "!pip install autorom[accept-rom-license]\n",
        "!sudo apt-get install zlib1g-dev cmake\n",
        "!pip install 'msgpack==1.0.2' gym[atari] tensorboard"
      ],
      "metadata": {
        "id": "k0cDzQB6OE0W"
      },
      "execution_count": null,
      "outputs": []
    },
    {
      "cell_type": "code",
      "execution_count": null,
      "metadata": {
        "id": "-9EsR3Uqmdr3"
      },
      "outputs": [],
      "source": [
        "# Clone PyTorch/StableBaselines wrappers\n",
        "!git clone https://github.com/matteo4diani/deep-q-learning-utils.git"
      ]
    },
    {
      "cell_type": "code",
      "source": [
        "# Put the downloaded repo on path so we can import custom libraries into Colab\n",
        "import sys\n",
        "sys.path.insert(0,'/content/deep-q-learning-utils')"
      ],
      "metadata": {
        "id": "6Rvzb2eNJLY_"
      },
      "execution_count": null,
      "outputs": []
    },
    {
      "cell_type": "markdown",
      "source": [
        "# Project Imports"
      ],
      "metadata": {
        "id": "MLEXZszENvvR"
      }
    },
    {
      "cell_type": "code",
      "source": [
        "from torch import nn\n",
        "from torch.utils.tensorboard import SummaryWriter\n",
        "from torch.nn.modules.activation import ReLU\n",
        "\n",
        "import torch\n",
        "import gym\n",
        "from collections import deque\n",
        "import itertools\n",
        "import numpy as np\n",
        "import random\n",
        "import os\n",
        "import matplotlib.pyplot as plt\n",
        "\n",
        "from IPython import display as ipythondisplay\n",
        "from pathlib import Path\n",
        "\n",
        "from pytorch_wrappers import make_atari_deepmind, BatchedPytorchFrameStack, PytorchLazyFrames\n",
        "from baselines_wrappers import Monitor, DummyVecEnv, SubprocVecEnv\n",
        "\n",
        "import msgpack\n",
        "from msgpack_numpy import patch as msgpack_numpy_patch\n",
        "msgpack_numpy_patch()\n",
        "# Load mprun and TensorBoard extensions\n",
        "%load_ext memory_profiler\n",
        "%load_ext tensorboard\n",
        "print(f\"\"\"\n",
        "If you are having problems running this notebook outside of Google Colab, check that: \n",
        "- torch has version {torch.__version__} \n",
        "- gym has version {gym.__version__}\n",
        "\"\"\")"
      ],
      "metadata": {
        "id": "QMeJdJG3JLfz"
      },
      "execution_count": null,
      "outputs": []
    },
    {
      "cell_type": "code",
      "source": [
        "print(torch.__version__)\n",
        "print(gym.__version__)"
      ],
      "metadata": {
        "colab": {
          "base_uri": "https://localhost:8080/"
        },
        "id": "XHzy9Lk_r9JY",
        "outputId": "81f9e3e6-c54a-4f5c-a56c-9f536b08544e"
      },
      "execution_count": null,
      "outputs": [
        {
          "output_type": "stream",
          "name": "stdout",
          "text": [
            "1.12.1+cu113\n",
            "0.25.2\n"
          ]
        }
      ]
    },
    {
      "cell_type": "markdown",
      "source": [
        "# Constants"
      ],
      "metadata": {
        "id": "GcXfQjQlN2dA"
      }
    },
    {
      "cell_type": "code",
      "source": [
        "##################################\n",
        "# Model Constants (taken from:   #\n",
        "# \"Human-level control through   #\n",
        "# deep reinforcement learning\")  #\n",
        "# with some additions (Double Q) #\n",
        "##################################\n",
        "\n",
        "# Use Double-Q Learning as defined in:\n",
        "# \"Deep Reinforcement Learning with Double-Q Learning\"\n",
        "USE_DOUBLE = True\n",
        "# Discount rate\n",
        "GAMMA = 0.99\n",
        "# How many transitions to sample from\n",
        "BATCH_SIZE = 32\n",
        "# How many transitions we're gonna store before overwrite\n",
        "BUFFER_SIZE = int(1e6)\n",
        "# How many transitions to accumulate before we start the actual training\n",
        "MIN_REPLAY_SIZE = 50000\n",
        "# Starting value of epsilon (probability of taking random action)\n",
        "EPSILON_START = 1.0\n",
        "# Final value of epsilon\n",
        "EPSILON_END = 0.1\n",
        "# Number of steps taken for EPSILON_START to become EPSILON_END\n",
        "EPSILON_DECAY = int(1e6)\n",
        "# Number of batch elements (environments created)\n",
        "N_ENVS = 4\n",
        "# Periodicity for target updates with the online values\n",
        "TARGET_UPDATE_FREQ = 10000 // N_ENVS\n",
        "# Learning Rate\n",
        "LEARNING_RATE = 5e-5\n",
        "# If True force taking action 1 at the start of each round to initiate gameplay.\n",
        "# Setting FORCE_START to True may alter the learning process and sho\n",
        "FORCE_START = False\n",
        "\n",
        "#####################\n",
        "# Utility Constants #\n",
        "#####################\n",
        "\n",
        "SAVE_PATHS = {True:  '/content/gdrive/MyDrive/deep-q-learning-atari/checkpoints/atari_model.pack', \n",
        "              False: 'checkpoints/atari_model.pack'}\n",
        "LOG_DIRS = {True: '/content/gdrive/MyDrive/deep-q-learning-atari/tensorboard/atari_model',\n",
        "            False: 'tensorboard/atari_model'}\n",
        "# Use your personal Google Drive for parameter serialization and logs\n",
        "USE_DRIVE = False\n",
        "# Save parameters to disk/drive\n",
        "SAVE_PARAMS = False\n",
        "# Reload parameters from disk/drive\n",
        "RELOAD_PARAMS = False\n",
        "# Path for network parameters serialization\n",
        "SAVE_PATH = SAVE_PATHS[USE_DRIVE]\n",
        "SAVE_INTERVAL = 10000\n",
        "# Path for TensorBoard logging\n",
        "LOG_DIR = LOG_DIRS[USE_DRIVE]\n",
        "LOG_INTERVAL = 1000"
      ],
      "metadata": {
        "id": "ACMeYFuxN2qT"
      },
      "execution_count": null,
      "outputs": []
    },
    {
      "cell_type": "markdown",
      "source": [
        "# Mount Google Drive"
      ],
      "metadata": {
        "id": "0aGWK5cKgc6S"
      }
    },
    {
      "cell_type": "code",
      "source": [
        "# Mount google drive so we can store data between runs\n",
        "from google.colab import drive\n",
        "if USE_DRIVE:\n",
        "  drive.mount('/content/gdrive')"
      ],
      "metadata": {
        "colab": {
          "base_uri": "https://localhost:8080/"
        },
        "id": "OSBlsAg5ihWu",
        "outputId": "2b401f64-efb2-4a7d-dc3e-8895c90c9c64"
      },
      "execution_count": null,
      "outputs": [
        {
          "output_type": "stream",
          "name": "stdout",
          "text": [
            "Mounted at /content/gdrive\n"
          ]
        }
      ]
    },
    {
      "cell_type": "markdown",
      "source": [
        "# Persistence Clean-up"
      ],
      "metadata": {
        "id": "KSvWXaN_fp3_"
      }
    },
    {
      "cell_type": "code",
      "source": [
        "# Remove persistence directories\n",
        "import shutil\n",
        "shutil.rmtree('/content/gdrive/MyDrive/deep-q-learning-atari/checkpoints', ignore_errors=True)\n",
        "shutil.rmtree('/content/gdrive/MyDrive/deep-q-learning-atari/tensorboard', ignore_errors=True)"
      ],
      "metadata": {
        "id": "5LNcaVIWOzXi"
      },
      "execution_count": null,
      "outputs": []
    },
    {
      "cell_type": "markdown",
      "source": [
        "# Network Definition"
      ],
      "metadata": {
        "id": "vaTIZATCN3AF"
      }
    },
    {
      "cell_type": "code",
      "source": [
        "########################\n",
        "# Network Architecture #\n",
        "########################\n",
        "\n",
        "def nature_cnn(observation_space, depths=(32, 64, 64), final_layer=512):\n",
        "  \"\"\"\n",
        "  CNN architecture as defined in 'Human-level Control through \n",
        "  deep reinforcement learning'\n",
        "  \"\"\"\n",
        "  # Get the number of input channels\n",
        "  n_input_channels = observation_space.shape[0]\n",
        "\n",
        "  cnn = nn.Sequential(\n",
        "      nn.Conv2d(n_input_channels, depths[0], kernel_size=8, stride=4),\n",
        "      nn.ReLU(),\n",
        "      nn.Conv2d(depths[0], depths[1], kernel_size=4, stride=2),\n",
        "      nn.ReLU(),\n",
        "      nn.Conv2d(depths[1], depths[2], kernel_size=3, stride=1),\n",
        "      nn.ReLU(),\n",
        "      nn.Flatten())\n",
        "  # Compute shape by doing one forward pass through the cnn\n",
        "  # and looking at the output shape of the tensor\n",
        "  with torch.no_grad():\n",
        "    # We are not passing this tensor to the gpu:\n",
        "    # Our NNs will still be on the CPU when nature_cnn(...) is called.\n",
        "    n_flatten = cnn(torch.as_tensor(observation_space.sample()[None]).float()).shape[1]\n",
        "    out = nn.Sequential(cnn, nn.Linear(n_flatten, final_layer), nn.ReLU())\n",
        "  \n",
        "  return out\n",
        "\n",
        "# Class representing the neural network, implements PyTorch nn.Module interface\n",
        "class Network(nn.Module):\n",
        "  def __init__(self, env, device, double):\n",
        "    super().__init__()\n",
        "    # Use Double-Q Learning\n",
        "    self.double = double\n",
        "    # Enable GPU support with explicit tensor/model allocation\n",
        "    self.device = device\n",
        "    # Number of actions available to the agent\n",
        "    self.num_actions = env.action_space.n\n",
        "    # Get Nature CNN instance\n",
        "    conv_net = nature_cnn(env.observation_space)\n",
        "    # Create network stacking the Nature CNN and a last layer \n",
        "    # dependent on the game environment \n",
        "    # (different num_actions, not knowable a-priori)\n",
        "    self.net = nn.Sequential(conv_net, nn.Linear(512, self.num_actions))\n",
        "  # Forward function is part of the interface for nn.Module\n",
        "  def forward(self, x):\n",
        "    return self.net(x)\n",
        "\n",
        "  def act(self, obses, epsilon):\n",
        "    # Convert observations to PyTorch tensor\n",
        "    obses_tensor = torch.as_tensor(obses, \n",
        "                                   dtype=torch.float32, \n",
        "                                   device=self.device)\n",
        "    \n",
        "    # PyTorch already expects a batch of samples so we pass the tensor as-is\n",
        "    # and we get a prediction from the Q-Network\n",
        "    q_values = self(obses_tensor)\n",
        "\n",
        "    # Get argmaxes of actions with best q\n",
        "    max_q_indices = torch.argmax(q_values, dim=1)\n",
        "    # Cast tensor into list of ints\n",
        "    actions = max_q_indices.detach().tolist()\n",
        "\n",
        "    # Implement epsilon-greedy policy.\n",
        "    # We get P(random action) = epsilon by P(randint(0,1) <= epsilon) = epsilon\n",
        "    for i in range(len(actions)):\n",
        "      rnd_sample = random.random()\n",
        "      if rnd_sample <= epsilon:\n",
        "        actions[i] = random.randint(0, self.num_actions - 1)\n",
        "    \n",
        "    return actions\n",
        "\n",
        "  def compute_loss(self, transitions, target_net):\n",
        "    # Comb data and turn to numpy array for faster runs\n",
        "    obses = [t[0] for t in transitions]\n",
        "    actions = np.asarray([t[1] for t in transitions])\n",
        "    rewards = np.asarray([t[2] for t in transitions])\n",
        "    dones = np.asarray([t[3] for t in transitions])\n",
        "    new_obses = [t[4] for t in transitions]\n",
        "    \n",
        "    # If using frame-stacking use helper get_frames() to get numpy compliant obj\n",
        "    if isinstance(obses[0], PytorchLazyFrames):\n",
        "      obses = np.stack([o.get_frames() for o in obses])\n",
        "      new_obses = np.stack([o.get_frames() for o in new_obses])\n",
        "    else:\n",
        "      obses = np.asarray(obses)\n",
        "      new_obses = np.asarray(new_obses)\n",
        "\n",
        "    # Turn to PyTorch tensor\n",
        "    obses_tensor = torch.as_tensor(obses, \n",
        "                                   dtype=torch.float32, \n",
        "                                   device=self.device)\n",
        "    # We unsqueeze(-1) to wrap each action/rew/... in an additional dimension\n",
        "    actions_tensor = torch.as_tensor(actions,\n",
        "                                     dtype=torch.int64,\n",
        "                                     device=self.device).unsqueeze(-1)\n",
        "    rewards_tensor = torch.as_tensor(rewards, \n",
        "                                     dtype=torch.float32,\n",
        "                                     device=self.device).unsqueeze(-1)\n",
        "    dones_tensor = torch.as_tensor(dones, \n",
        "                                   dtype=torch.float32,\n",
        "                                   device=self.device).unsqueeze(-1)\n",
        "    new_obses_tensor = torch.as_tensor(new_obses, \n",
        "                                       dtype=torch.float32,\n",
        "                                       device=self.device)\n",
        "    with torch.no_grad():\n",
        "      if self.double:\n",
        "        # We modify the network to use the online net for action selection\n",
        "        # And the target net to compute Q-Values of actions.\n",
        "        # Taken from \"Deep Reinforcement Learning with Double-Q Learning\"\n",
        "        # By H. van Hasselt, A. Guez, and D. Silver from Google DeepMind.\n",
        "        targets_online_q_values = self(new_obses_tensor)\n",
        "        targets_online_best_q_indices = targets_online_q_values.argmax(dim=1, \n",
        "                                                                       keepdim=True)\n",
        "        targets_target_q_values = target_net(new_obses_tensor)\n",
        "        targets_selected_q_values = torch.gather(input=targets_target_q_values,\n",
        "                                                 dim=1,\n",
        "                                                 index=targets_online_best_q_indices)\n",
        "        targets = rewards_tensor + GAMMA * (1 - dones_tensor) * targets_selected_q_values\n",
        "\n",
        "      else:\n",
        "        # Compute targets for loss function\n",
        "        # We use the target net to predict target q-values for new obses\n",
        "        # For each new observation we have a set of q-values\n",
        "        # We need to condense this set to the one highest q-value per observation\n",
        "        # (N.B. pytorch tensors .max() return argmax at index 1)\n",
        "        target_q_values = target_net(new_obses_tensor)\n",
        "        max_target_q_values = target_q_values.max(dim=1, keepdim=True)[0]\n",
        "        # Compute r + gamma*max(Q) (\"if done -> r\" is obtained via \"1 - dones_tensor\")\n",
        "        targets = rewards_tensor + GAMMA * (1 - dones_tensor) * max_target_q_values\n",
        "\n",
        "    # Compute Loss\n",
        "    q_values = self(obses_tensor)\n",
        "\n",
        "    # Get q-values for the actions we took\n",
        "    action_q_values = torch.gather(input=q_values, dim=1, index=actions_tensor)\n",
        "\n",
        "    # Compute l1 loss\n",
        "    loss = nn.functional.smooth_l1_loss(action_q_values, targets)\n",
        "\n",
        "    return loss\n",
        "\n",
        "  def save(self, save_path):\n",
        "    \"\"\"Serialize network parameters to disk or Google Drive\"\"\"\n",
        "\n",
        "    # We call .cpu() to transfer the tensor\n",
        "    # from the gpu when converting to np array\n",
        "    params = {k: t.detach().cpu().numpy() for k, t in self.state_dict().items()}\n",
        "    # Serialize network parameter dictionary with msgpack\n",
        "    params_data = msgpack.dumps(params)\n",
        "\n",
        "    os.makedirs(os.path.dirname(save_path), exist_ok=True)\n",
        "    with open(save_path, 'wb') as f:\n",
        "      f.write(params_data)\n",
        "\n",
        "  def load(self, load_path):\n",
        "    \"\"\"Load network parameters from disk or Google Drive\"\"\"\n",
        "    if not os.path.exists(load_path):\n",
        "      raise FileNotFoundError(load_path)\n",
        "\n",
        "    with open(load_path, 'rb') as f:\n",
        "      params_numpy = msgpack.load(f)\n",
        "      # Convert to PyTorch tensors and load into network\n",
        "      params = {k: torch.as_tensor(v, device=self.device) for k,v in params_numpy.items()}\n",
        "      self.load_state_dict(params)"
      ],
      "metadata": {
        "id": "wvFAh-pXN3S4"
      },
      "execution_count": null,
      "outputs": []
    },
    {
      "cell_type": "markdown",
      "source": [
        "# Model Training"
      ],
      "metadata": {
        "id": "J4QiJ5V4OoGr"
      }
    },
    {
      "cell_type": "code",
      "source": [
        "###############\n",
        "# Model Setup #\n",
        "###############\n",
        "\n",
        "# Enable GPU support\n",
        "device = torch.device('cuda:0') if torch.cuda.is_available() else 'cpu'\n",
        "\n",
        "# Load Breakout environment\n",
        "# We use a custom wrapper made by @brthor\n",
        "# The wrapper applies all the preprocessing steps described in\n",
        "# \"Human-level control through deep reinforcement learning\"\n",
        "# before the agent sees the observation.\n",
        "# It also transforms [Height, Width, Channel] -> [C, H, W] (PyTorch format)\n",
        "# Where H, W identify the pixel and channel is R, G or B.\n",
        "# We wrap make_atari_deepmind in a Monitor object that enriches the info\n",
        "# returned by env.step()\n",
        "make_env = lambda: Monitor(make_atari_deepmind('BreakoutNoFrameskip-v4',\n",
        "                                               scale_values=True), \n",
        "                           allow_early_resets=True)\n",
        "\n",
        "# Double configuration for VecEnv: sequential (dummy) and parallel (subproc)\n",
        "vec_env = DummyVecEnv([make_env for _ in range(N_ENVS)])\n",
        "#env = SubprocVecEnv([make_env for _ in range(N_ENVS)])\n",
        "\n",
        "# We implement frame-stacking via another custom wrapper by @brthor\n",
        "# It's a VecEnv wrapper, so it wraps the vec_env directly,\n",
        "# not in the builder lambda (make_env) like Monitor.\n",
        "# BatchedPytorchFrameStack returns a PytorchLazyFrames instance\n",
        "# when env.step() is called, instead of a numpy array. \n",
        "# The use of lazy frames avoids duplicating memory when frame-stacking.\n",
        "env = BatchedPytorchFrameStack(vec_env, k=4)\n",
        "\n",
        "# We create Doubly Ended Queue (deque) for fast append and pop (O(1))\n",
        "# Transition Buffer\n",
        "replay_buffer = deque(maxlen=BUFFER_SIZE)\n",
        "# Episode Info Buffer\n",
        "ep_infos_buffer = deque([0.0], maxlen=100)\n",
        "\n",
        "episode_count = 0\n",
        "\n",
        "# Implement TensorBoard logging\n",
        "summary_writer = SummaryWriter(LOG_DIR)\n",
        "\n",
        "online_net = Network(env, device=device, double=USE_DOUBLE)\n",
        "target_net = Network(env, device=device, double=USE_DOUBLE)\n",
        "\n",
        "# Delegate networks to GPU (if device = 'cpu' this does nothing)\n",
        "online_net = online_net.to(device)\n",
        "target_net = online_net.to(device)\n",
        "\n",
        "# When at risk of OOM errors enable RELOAD_PARAMS to get back to last checkpoint\n",
        "if RELOAD_PARAMS:\n",
        "   online_net.load(SAVE_PATH)\n",
        "\n",
        "# We set the target net parameters equal to the online_net params\n",
        "# As specified in \"Human-level control through deep reinforcement learning\"\n",
        "target_net.load_state_dict(online_net.state_dict())\n",
        "\n",
        "# Create optimizer for gradient descent\n",
        "optimizer = torch.optim.Adam(online_net.parameters(), lr=LEARNING_RATE)\n",
        "\n",
        "# Initialize Replay Buffer\n",
        "obses = env.reset()\n",
        "\n",
        "# If do_init_action[i] is True then environment i executes action 1 (start game)\n",
        "do_init_action = [True for _ in range(N_ENVS)]\n",
        "\n",
        "######################\n",
        "# Replay Buffer Loop #\n",
        "######################\n",
        "\n",
        "for _ in range(MIN_REPLAY_SIZE):\n",
        "  # Select random actions\n",
        "  actions = [env.action_space.sample() for _ in range(N_ENVS)]\n",
        "\n",
        "  # If we are reloading parameters after a notebook disconnect or OOM error\n",
        "  # We build the replay set from the last network saved\n",
        "  if RELOAD_PARAMS:\n",
        "    # Epsilon decays linearly in time until reaching its final value\n",
        "    epsilon = np.interp(int(1e5) * N_ENVS, \n",
        "                        [0, EPSILON_DECAY],\n",
        "                        [EPSILON_START, EPSILON_END])\n",
        "    # Get the actions from the online network.\n",
        "    # If we are using frame-stacking with the custom wrapper\n",
        "    # we unwrap observations and stack frames before passing them to net.act(...).\n",
        "    # Epsilon-greedy policy is implemented in the net.act method\n",
        "    if isinstance(obses[0], PytorchLazyFrames):\n",
        "      act_obses = np.stack([o.get_frames() for o in obses])\n",
        "      actions = online_net.act(act_obses, EPSILON_START)\n",
        "    else:\n",
        "      actions = online_net.act(obses, EPSILON_START)\n",
        "\n",
        "  \n",
        "  # In the breakout game, we need to call action 1 each time a new game starts\n",
        "  # to release the projectile from the player's platform.\n",
        "  # We can help the agent by performing this action for them.\n",
        "  if FORCE_START:\n",
        "    actions = [1 if do_init_action[i] else a for i, a in enumerate(actions)]\n",
        "  \n",
        "  # We step the environment with the selected actions\n",
        "  new_obses, rewards, dones, infos = env.step(actions)\n",
        "  do_init_action = list(dones)\n",
        "\n",
        "  # We zip together all the info related to the current transition\n",
        "  # and iterate over the resulting collection.\n",
        "  # Experiences from all batches are grouped together in a common pool.\n",
        "  for obs, action, reward, done, new_obs, info in zip(obses, \n",
        "                                                actions, \n",
        "                                                rewards, \n",
        "                                                dones, \n",
        "                                                new_obses,\n",
        "                                                infos):\n",
        "    # We group all this info in a 'transition' tuple\n",
        "    # We put the tuple in the replay buffer to accumulate experience\n",
        "    # If an episode is done the VecEnv will env.reset() for us\n",
        "    transition = (obs, action, reward, done, new_obs)\n",
        "    replay_buffer.append(transition)\n",
        "\n",
        "  # We set the current observations as past obses for the new cycle\n",
        "  obses = new_obses\n",
        "\n",
        "######################\n",
        "# Main Training Loop #\n",
        "######################\n",
        "\n",
        "# After the random-actions loop we reset the environment and start training\n",
        "obses = env.reset()\n",
        "do_init_action = [True for _ in range(N_ENVS)]\n",
        "\n",
        "# Step the loop forward with the itertools.count() int generator\n",
        "for step in itertools.count():\n",
        "\n",
        "  # Epsilon decays linearly in time until reaching its final value\n",
        "  epsilon = np.interp(step * N_ENVS, \n",
        "                      [0, EPSILON_DECAY],\n",
        "                      [EPSILON_START, EPSILON_END])\n",
        "  \n",
        "  if isinstance(obses[0], PytorchLazyFrames):\n",
        "    act_obses = np.stack([o.get_frames() for o in obses])\n",
        "    actions = online_net.act(act_obses, epsilon)\n",
        "  else:\n",
        "    actions = online_net.act(obses, epsilon)\n",
        "  \n",
        "  if FORCE_START:\n",
        "    actions = [1 if do_init_action[i] else a for i, a in enumerate(actions)]\n",
        "    \n",
        "  # The training loop goes on as in the random-actions regime\n",
        "  new_obses, rewards, dones, infos = env.step(actions)\n",
        "\n",
        "  for obs, action, reward, done, new_obs, info in zip(obses, \n",
        "                                                actions, \n",
        "                                                rewards, \n",
        "                                                dones, \n",
        "                                                new_obses,\n",
        "                                                infos):\n",
        "    transition = (obs, action, reward, done, new_obs)\n",
        "    replay_buffer.append(transition)\n",
        "\n",
        "    # When an episode is done we append the episode info to the buffer.\n",
        "    # We pass the info to TensorBoard for out-of-the-box interactive graphs.\n",
        "    if done:\n",
        "      ep_infos_buffer.append(info['episode'])\n",
        "      episode_count += 1\n",
        "\n",
        "  obses = new_obses\n",
        "\n",
        "  # Start Gradient Step\n",
        "  transitions = random.sample(replay_buffer, BATCH_SIZE)\n",
        "  # Compute loss\n",
        "  loss = online_net.compute_loss(transitions, target_net)\n",
        "  # Gradient Descent\n",
        "  optimizer.zero_grad()\n",
        "  # Back-Propagation\n",
        "  loss.backward()\n",
        "  optimizer.step()\n",
        "\n",
        "  # Update Target Network with the online net weights\n",
        "  if step % TARGET_UPDATE_FREQ == 0:\n",
        "    target_net.load_state_dict(online_net.state_dict())\n",
        "\n",
        "  # Logging\n",
        "  if step % LOG_INTERVAL == 0:\n",
        "    if isinstance(ep_infos_buffer[0], dict):  \n",
        "      reward_mean = np.mean([e['r'] for e in ep_infos_buffer]) or 0\n",
        "      length_mean = np.mean([e['l'] for e in ep_infos_buffer]) or 0\n",
        "      # Log data to TensorBoard graphs\n",
        "      summary_writer.add_scalar('AvgRew', reward_mean, global_step=step)\n",
        "      summary_writer.add_scalar('AvgEpLen', length_mean, global_step=step)\n",
        "      summary_writer.add_scalar('Episodes', episode_count)\n",
        "      \n",
        "      saves = 0\n",
        "      threshold_values = [6.0, 8.0, 10.0, 12.0, 14.0, 16.0]\n",
        "      if reward_mean > threshold_values[saves]:\n",
        "        saves += 1\n",
        "        print('Saving...')\n",
        "        online_net.save(SAVE_PATH)\n",
        "\n",
        "    else:\n",
        "      reward_mean = 'N/A'\n",
        "      length_mean = 'N/A'\n",
        "\n",
        "    print()\n",
        "    print('Step', step)\n",
        "    print('Avg Reward', reward_mean)\n",
        "    print('Avg Episode Length', length_mean)\n",
        "    print('Episodes', episode_count)\n",
        "\n",
        "  # Save Network Parameters\n",
        "  if SAVE_PARAMS:\n",
        "    if step % SAVE_INTERVAL == 0 and step != 0:\n",
        "      print('Saving...')\n",
        "      online_net.save(SAVE_PATH)\n",
        "\n",
        "\n"
      ],
      "metadata": {
        "id": "jU2zTbXbOoRa"
      },
      "execution_count": null,
      "outputs": []
    },
    {
      "cell_type": "markdown",
      "source": [
        "# Checkpoint Parameters"
      ],
      "metadata": {
        "id": "E9Jeulb_CXHW"
      }
    },
    {
      "cell_type": "code",
      "source": [
        "online_net.save(SAVE_PATH)\n"
      ],
      "metadata": {
        "id": "Y8ys7lcXBLgv"
      },
      "execution_count": null,
      "outputs": []
    },
    {
      "cell_type": "markdown",
      "source": [
        "# Graphs with TensorBoard"
      ],
      "metadata": {
        "id": "O19jDGbX4I9A"
      }
    },
    {
      "cell_type": "code",
      "source": [
        "%tensorboard --logdir $LOG_DIR"
      ],
      "metadata": {
        "id": "Ze_oh1_u2yIW"
      },
      "execution_count": null,
      "outputs": []
    }
  ]
}